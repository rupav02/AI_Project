{
 "cells": [
  {
   "cell_type": "markdown",
   "id": "eb392e87",
   "metadata": {},
   "source": [
    "### Imports and data cleaning"
   ]
  },
  {
   "cell_type": "code",
   "execution_count": 1,
   "id": "7b8a91f7",
   "metadata": {},
   "outputs": [],
   "source": [
    "import numpy as np\n",
    "import pandas as pd\n",
    "import matplotlib.pyplot as plt\n",
    "import seaborn as sns\n",
    "from sklearn import preprocessing, svm\n",
    "from sklearn.model_selection import train_test_split\n",
    "from sklearn.linear_model import LinearRegression\n",
    "from scipy import signal\n",
    "from scipy.signal import savgol_filter\n",
    "from sklearn.metrics import mean_squared_error, r2_score\n",
    "from IPython import display\n",
    "import time\n",
    "import IPython\n",
    "from ipywidgets import interact, interactive, fixed, interact_manual\n",
    "import ipywidgets as widgets\n",
    "from ipywidgets import HBox, VBox, Text, Button\n",
    "from IPython.display import display\n",
    "import matplotlib.pyplot as plt"
   ]
  },
  {
   "cell_type": "code",
   "execution_count": 2,
   "id": "18e19f37",
   "metadata": {},
   "outputs": [],
   "source": [
    "dataframe3 = pd.read_excel('COVID-19 US state policy database 6_10_2021.xlsx')\n",
    "df2 = pd.read_csv('time_series_covid_19_confirmed_US.csv')"
   ]
  },
  {
   "cell_type": "code",
   "execution_count": 3,
   "id": "2392ace9",
   "metadata": {},
   "outputs": [
    {
     "data": {
      "text/plain": [
       "<seaborn.axisgrid.FacetGrid at 0x7fcae2051910>"
      ]
     },
     "execution_count": 3,
     "metadata": {},
     "output_type": "execute_result"
    },
    {
     "data": {
      "image/png": "[encoded data removed]",
      "text/plain": [
       "<Figure size 360x360 with 1 Axes>"
      ]
     },
     "metadata": {
      "needs_background": "light"
     },
     "output_type": "display_data"
    }
   ],
   "source": [
    "states = (df2['Province_State'].unique())\n",
    "row = []\n",
    "popValues = []\n",
    "for state in states:\n",
    "    r = df2.loc[df2[\"Province_State\"] == state, \"5/29/21\"]\n",
    "    sum_row = r.sum(axis=0)\n",
    "    row.append(sum_row)\n",
    "df = pd.DataFrame(row) \n",
    "df.columns = [\"Total Covid Cases\"]\n",
    "for index, state in enumerate(states):\n",
    "    df.rename(index={index: state}, inplace=True)\n",
    "df = df.drop([\"American Samoa\", \"Diamond Princess\", \"Grand Princess\", \"Northern Mariana Islands\", \"Guam\", \"Puerto Rico\", \"Virgin Islands\" ], axis=0)\n",
    "r = dataframe3.loc[:,\"POP18\"]\n",
    "for index, val in enumerate(r):\n",
    "    if index > 3:\n",
    "        popValues.append(val)\n",
    "df[\"Population 2018\"] = popValues\n",
    "\n",
    "sns.lmplot(x =\"Population 2018\", y =\"Total Covid Cases\", data = df, order = 2, ci = None)\n"
   ]
  },
  {
   "cell_type": "markdown",
   "id": "f9d064b2",
   "metadata": {},
   "source": [
    "### Dominiques Edits - Added Sliders Linear Regression"
   ]
  },
  {
   "cell_type": "code",
   "execution_count": 4,
   "id": "79e337df",
   "metadata": {},
   "outputs": [
    {
     "data": {
      "text/plain": [
       "'\"\\nalpha = 10 ** -16\\niterations = 1000\\nnum_image_updates = 20\\nparameters = linear_regression(X_test, y_test, alpha, iterations, num_image_updates)\\nprint(parameters)\\n\\n\\n#doesn\\'t the lin regression function above already calculate and plot the predictions (line)?\\ny_pred = np.empty([len(X_test), 1])\\nfor i in range(len(X_test)):\\n    y_pred[i]  = parameters[0]*X_test[i] + parameters[1]\\n\\nplt.scatter(X_test, y_test, color =\\'b\\')\\nplt.plot(X_test, y_pred, color =\\'k\\')\\nplt.show()\\n'"
      ]
     },
     "execution_count": 4,
     "metadata": {},
     "output_type": "execute_result"
    }
   ],
   "source": [
    "X = np.array(df['Population 2018']).reshape(-1, 1)\n",
    "y = np.array(df['Total Covid Cases']).reshape(-1, 1)\n",
    "\n",
    "X_train, X_test, y_train, y_test = train_test_split(X, y, shuffle=True, train_size=0.3)\n",
    "\n",
    "\"\"\"\"\n",
    "alpha = 10 ** -16\n",
    "iterations = 1000\n",
    "num_image_updates = 20\n",
    "parameters = linear_regression(X_test, y_test, alpha, iterations, num_image_updates)\n",
    "print(parameters)\n",
    "\n",
    "\n",
    "#doesn't the lin regression function above already calculate and plot the predictions (line)?\n",
    "y_pred = np.empty([len(X_test), 1])\n",
    "for i in range(len(X_test)):\n",
    "    y_pred[i]  = parameters[0]*X_test[i] + parameters[1]\n",
    "\n",
    "plt.scatter(X_test, y_test, color ='b')\n",
    "plt.plot(X_test, y_pred, color ='k')\n",
    "plt.show()\n",
    "\"\"\""
   ]
  },
  {
   "cell_type": "code",
   "execution_count": 5,
   "id": "a130e178",
   "metadata": {},
   "outputs": [],
   "source": [
    "#Linear Regression function attempting to store y_predicted values so that they can be displayed later? Still having issues with\n",
    "# displaying updates to the graph\n",
    "def linear_regression(X_test, y_test, alpha, iterations, num_image_updates):\n",
    "    w = 0\n",
    "    b = 0\n",
    "    y_preds = []\n",
    "    step_size = iterations/num_image_updates\n",
    "\n",
    "    plt.ion()\n",
    "    fig = plt.figure()\n",
    "    ax = fig.add_subplot(111)\n",
    "    plt.scatter(X_test, y_test, color ='b')\n",
    "    init = range(len(X_test))\n",
    "    line, = ax.plot(X_test, init, 'k')\n",
    "\n",
    "    for i in range(iterations):\n",
    "        dJ_dw = 0\n",
    "        dJ_db = 0\n",
    "        for j in range(len(X_test)):\n",
    "            dJ_dw = dJ_dw + (1/len(X_test))*(w*X_test[j] + b - y_test[j])*X_test[j]\n",
    "            dJ_db = dJ_db + (1/len(X_test))*(w*X_test[j] + b - y_test[j])\n",
    "        w = w - alpha*dJ_dw\n",
    "        b = b - alpha*dJ_db\n",
    "\n",
    "        y_pred = np.empty([len(X_test), 1])\n",
    "        for k in range(len(X_test)):\n",
    "            y_pred[k] = w*X_test[k] + b\n",
    "\n",
    "        y_preds.append(y_pred)\n",
    "\n",
    "        if i % step_size == 0:\n",
    "            line.set_ydata(y_pred)\n",
    "            fig.canvas.draw()\n",
    "            fig.canvas.flush_events()\n",
    "            \"\"\"\n",
    "            plt.clf()\n",
    "            plt.scatter(X_test, y_test, color ='b')\n",
    "            plt.plot(X_test, y_pred, color ='k')\n",
    "            IPython.display.display(plt.gcf())\n",
    "            IPython.display.clear_output(wait=True)\n",
    "            time.sleep(1)\n",
    "            \"\"\"\n",
    "    \n",
    "    parameters = (w, b, y_preds)\n",
    "    return parameters\n",
    "    "
   ]
  },
  {
   "cell_type": "code",
   "execution_count": 6,
   "id": "04adb6c8",
   "metadata": {},
   "outputs": [],
   "source": [
    "#default values\n",
    "alpha = 10 ** -16\n",
    "iterations = 1000\n",
    "num_image_updates = 20\n",
    "y_preds = []\n",
    "\n",
    "#Slider functions - alpha having issues bc it is so small so might need text input?\n",
    "def alpha_update(alpha_in):\n",
    "    alpha = alpha_in\n",
    "\n",
    "def iterations_update(iterations_in):\n",
    "    iteraions = iterations_in\n",
    "\n",
    "def num_image_updates_update(num_image_updates_in):\n",
    "    num_image_updates = num_image_updates_in\n",
    "\n",
    "def run_only_lin_reg(button):\n",
    "    #interact(linear_regression, X_test = X_test, y_test = y_test, alpha = alpha, iterations = iterations, num_image_updates = num_image_updates)\n",
    "    (w, b, y_preds_return) =linear_regression(X_test, y_test, alpha, iterations, num_image_updates)\n",
    "    for i in range(len(y_preds_return)):\n",
    "        y_preds.append(y_preds_return[i])"
   ]
  },
  {
   "cell_type": "code",
   "execution_count": 7,
   "id": "fd724df7",
   "metadata": {},
   "outputs": [
    {
     "data": {
      "application/vnd.jupyter.widget-view+json": {
       "model_id": "b556b97883524a04bb4a54c0cbbfda60",
       "version_major": 2,
       "version_minor": 0
      },
      "text/plain": [
       "interactive(children=(IntSlider(value=1000, description='iterations_in', max=3000, min=-1000), Output()), _dom…"
      ]
     },
     "metadata": {},
     "output_type": "display_data"
    },
    {
     "data": {
      "application/vnd.jupyter.widget-view+json": {
       "model_id": "8eaa36161d3241a29dd81eee12a5b2b4",
       "version_major": 2,
       "version_minor": 0
      },
      "text/plain": [
       "interactive(children=(IntSlider(value=20, description='num_image_updates_in', max=60, min=-20), Output()), _do…"
      ]
     },
     "metadata": {},
     "output_type": "display_data"
    },
    {
     "data": {
      "application/vnd.jupyter.widget-view+json": {
       "model_id": "f1f3f0bac9b94eafa0c4c1412d1ad2ad",
       "version_major": 2,
       "version_minor": 0
      },
      "text/plain": [
       "Button(description='Enter', style=ButtonStyle())"
      ]
     },
     "metadata": {},
     "output_type": "display_data"
    },
    {
     "data": {
      "application/vnd.jupyter.widget-view+json": {
       "model_id": "0213813bdd3642d89f06b3457d8b294e",
       "version_major": 2,
       "version_minor": 0
      },
      "text/plain": [
       "Output()"
      ]
     },
     "metadata": {},
     "output_type": "display_data"
    }
   ],
   "source": [
    "#interact(alpha_update, alpha_in=alpha)\n",
    "interact(iterations_update, iterations_in=iterations)\n",
    "interact(num_image_updates_update, num_image_updates_in=num_image_updates)\n",
    "\n",
    "button = widgets.Button(description='Enter')\n",
    "button.on_click(run_only_lin_reg)\n",
    "output = widgets.Output()\n",
    "\n",
    "#display(button, output)\n",
    "display(button, output)"
   ]
  },
  {
   "cell_type": "code",
   "execution_count": 8,
   "id": "d35d8e2e",
   "metadata": {},
   "outputs": [
    {
     "data": {
      "text/plain": [
       "\"\\n#Plotting linear regression - can't seem to get this to work in the interactive section\\nplt.ion()\\n\\nfig = plt.figure()\\nax = fig.add_subplot(111)\\nline, = ax.plot(X_test, y_preds[0], 'b')\\nstep_size = iterations/num_image_updates\\n\\nfor i in range(len(y_preds)):\\n    if i % step_size == 0:\\n        plt.clf()\\n        plt.scatter(X_test, y_test, color ='b')\\n        plt.plot(X_test, y_preds[i], color ='k')\\n        IPython.display.display(plt.gcf())\\n        IPython.display.clear_output(wait=True)\\n  \""
      ]
     },
     "execution_count": 8,
     "metadata": {},
     "output_type": "execute_result"
    }
   ],
   "source": [
    "'''\n",
    "#Plotting linear regression - can't seem to get this to work in the interactive section\n",
    "plt.ion()\n",
    "\n",
    "fig = plt.figure()\n",
    "ax = fig.add_subplot(111)\n",
    "line, = ax.plot(X_test, y_preds[0], 'b')\n",
    "step_size = iterations/num_image_updates\n",
    "\n",
    "for i in range(len(y_preds)):\n",
    "    if i % step_size == 0:\n",
    "        plt.clf()\n",
    "        plt.scatter(X_test, y_test, color ='b')\n",
    "        plt.plot(X_test, y_preds[i], color ='k')\n",
    "        IPython.display.display(plt.gcf())\n",
    "        IPython.display.clear_output(wait=True)\n",
    "  '''      "
   ]
  },
  {
   "cell_type": "markdown",
   "id": "09d19363",
   "metadata": {},
   "source": [
    "### Sola's Edits"
   ]
  },
  {
   "cell_type": "code",
   "execution_count": 9,
   "id": "dfa7bcf9",
   "metadata": {},
   "outputs": [],
   "source": [
    "def f(x):\n",
    "    return x\n",
    "\n",
    "def g(w, b):\n",
    "    if(w != '' and b != ''):\n",
    "        return int(w) + int(b)"
   ]
  },
  {
   "cell_type": "code",
   "execution_count": 10,
   "id": "4b75678e",
   "metadata": {},
   "outputs": [
    {
     "data": {
      "application/vnd.jupyter.widget-view+json": {
       "model_id": "f69ab93fa2b34addbd1d75b86db0dacc",
       "version_major": 2,
       "version_minor": 0
      },
      "text/plain": [
       "interactive(children=(IntSlider(value=10, description='x', max=30, min=-10), Output()), _dom_classes=('widget-…"
      ]
     },
     "metadata": {},
     "output_type": "display_data"
    },
    {
     "data": {
      "text/plain": [
       "<function __main__.f(x)>"
      ]
     },
     "execution_count": 10,
     "metadata": {},
     "output_type": "execute_result"
    }
   ],
   "source": [
    "interact(f, x=10)"
   ]
  },
  {
   "cell_type": "code",
   "execution_count": 11,
   "id": "0f86d85e",
   "metadata": {},
   "outputs": [
    {
     "data": {
      "application/vnd.jupyter.widget-view+json": {
       "model_id": "79b50bd66936435ea9f9ec3d928b4b43",
       "version_major": 2,
       "version_minor": 0
      },
      "text/plain": [
       "interactive(children=(Text(value='', description='w'), Text(value='', description='b'), Output()), _dom_classe…"
      ]
     },
     "metadata": {},
     "output_type": "display_data"
    },
    {
     "data": {
      "text/plain": [
       "<function __main__.g(w, b)>"
      ]
     },
     "execution_count": 11,
     "metadata": {},
     "output_type": "execute_result"
    }
   ],
   "source": [
    "interact(g, w = '', b = '')"
   ]
  },
  {
   "cell_type": "code",
   "execution_count": 12,
   "id": "09464f1d",
   "metadata": {},
   "outputs": [],
   "source": [
    "#version of linear regression with w, b text box functionality\n",
    "def linear_regression(X_test, y_test, alpha, iterations, num_image_updates, has_w_b, w, b):\n",
    "    \n",
    "    if has_w_b == False:\n",
    "        \n",
    "        step_size = iterations/num_image_updates\n",
    "    \n",
    "        for i in range(iterations):\n",
    "            dJ_dw = 0\n",
    "            dJ_db = 0\n",
    "            for j in range(len(X_test)):\n",
    "                dJ_dw = dJ_dw + (1/len(X_test))*(w*X_test[j] + b - y_test[j])*X_test[j]\n",
    "                dJ_db = dJ_db + (1/len(X_test))*(w*X_test[j] + b - y_test[j])\n",
    "            w = w - alpha*dJ_dw\n",
    "            b = b - alpha*dJ_db\n",
    "\n",
    "            y_pred = np.empty([len(X_test), 1])\n",
    "            for k in range(len(X_test)):\n",
    "                y_pred[k]  = w*X_test[k] + b\n",
    "\n",
    "            if i % step_size == 0:\n",
    "                plt.clf()\n",
    "                plt.scatter(X_test, y_test, color ='b')\n",
    "                plt.plot(X_test, y_pred, color ='k')\n",
    "                display.display(plt.gcf())\n",
    "                display.clear_output(wait=True)\n",
    "                time.sleep(1)\n",
    "    else:\n",
    "        y_pred = np.empty([len(X_test), 1])\n",
    "        for k in range(len(X_test)):\n",
    "            y_pred[k]  = w*X_test[k] + b\n",
    "\n",
    "        \n",
    "        plt.clf()\n",
    "        plt.scatter(X_test, y_test, color ='b')\n",
    "        plt.plot(X_test, y_pred, color ='k')\n",
    "        display.display(plt.gcf())\n",
    "        display.clear_output(wait=True)\n",
    "        time.sleep(1)\n",
    "    \n",
    "    parameters = (w, b)\n",
    "    return parameters"
   ]
  },
  {
   "cell_type": "code",
   "execution_count": 13,
   "id": "520cc78a",
   "metadata": {},
   "outputs": [],
   "source": [
    "def run_lin_reg(has_w_b, w, b):\n",
    "    \n",
    "    X = np.array(df['Population 2018']).reshape(-1, 1)\n",
    "    y = np.array(df['Total Covid Cases']).reshape(-1, 1)\n",
    "\n",
    "    X_train, X_test, y_train, y_test = train_test_split(X, y, shuffle=True, train_size=0.3)\n",
    "\n",
    "    #make it so this info is obtained from sliders instead\n",
    "    alpha = 10 ** -16\n",
    "    iterations = 1000\n",
    "    num_image_updates = 20\n",
    "    \n",
    "    #replace has_w_b text with the result from the button or textbox!!!\n",
    "    if(w != '' and b != '' and has_w_b == \"True\"):\n",
    "        w = float(w)\n",
    "        b = float(b)\n",
    "\n",
    "        X = np.array(df['Population 2018']).reshape(-1, 1)\n",
    "        y = np.array(df['Total Covid Cases']).reshape(-1, 1)\n",
    "\n",
    "        \n",
    "        parameters = linear_regression(X_test, y_test, alpha, iterations, num_image_updates, True, w, b)\n",
    "\n",
    "        print(parameters)\n",
    "\n",
    "        y_pred = np.empty([len(X_test), 1])\n",
    "        for i in range(len(X_test)):\n",
    "            y_pred[i]  = parameters[0]*X_test[i] + parameters[1]\n",
    "\n",
    "        plt.scatter(X_test, y_test, color ='b')\n",
    "        plt.plot(X_test, y_pred, color ='k')\n",
    "        plt.show()\n",
    "\n",
    "    elif has_w_b == \"False\":\n",
    "        parameters = linear_regression(X_test, y_test, alpha, iterations, num_image_updates, False, 0, 0)\n",
    "\n",
    "        print(parameters)\n",
    "\n",
    "        y_pred = np.empty([len(X_test), 1])\n",
    "        for i in range(len(X_test)):\n",
    "            y_pred[i]  = parameters[0]*X_test[i] + parameters[1]\n",
    "\n",
    "        plt.scatter(X_test, y_test, color ='b')\n",
    "        plt.plot(X_test, y_pred, color ='k')\n",
    "        plt.show()\n",
    "    return"
   ]
  },
  {
   "cell_type": "code",
   "execution_count": 14,
   "id": "5b48e89e",
   "metadata": {},
   "outputs": [],
   "source": [
    "def interact_true(button):\n",
    "    #maybe make it so the parameters do not show?\n",
    "    interact(run_lin_reg, has_w_b = 'True', w = '', b = '')"
   ]
  },
  {
   "cell_type": "code",
   "execution_count": 15,
   "id": "8027adde",
   "metadata": {},
   "outputs": [],
   "source": [
    "def interact_false(button):\n",
    "    #interactive so it does not show w and b, why is it not running lin_reg correctly\n",
    "    interact(run_lin_reg, has_w_b = 'False', w = '', b = '')"
   ]
  },
  {
   "cell_type": "code",
   "execution_count": 16,
   "id": "290a7054",
   "metadata": {},
   "outputs": [
    {
     "data": {
      "application/vnd.jupyter.widget-view+json": {
       "model_id": "75209b31dae0410fa283a25065f523d4",
       "version_major": 2,
       "version_minor": 0
      },
      "text/plain": [
       "Button(description='Run WITH w and b', style=ButtonStyle())"
      ]
     },
     "metadata": {},
     "output_type": "display_data"
    },
    {
     "data": {
      "application/vnd.jupyter.widget-view+json": {
       "model_id": "e96201e990ea491cb46ad4d900033f15",
       "version_major": 2,
       "version_minor": 0
      },
      "text/plain": [
       "Button(description='Run WITHOUT w and b', style=ButtonStyle())"
      ]
     },
     "metadata": {},
     "output_type": "display_data"
    },
    {
     "data": {
      "application/vnd.jupyter.widget-view+json": {
       "model_id": "18b090eb217f4bdf8233f95d63763dac",
       "version_major": 2,
       "version_minor": 0
      },
      "text/plain": [
       "Output()"
      ]
     },
     "metadata": {},
     "output_type": "display_data"
    }
   ],
   "source": [
    "run_button_with_wb = widgets.Button(description='Run WITH w and b')\n",
    "run_button_with_wb.on_click(interact_true)\n",
    "run_button_without_wb = widgets.Button(description='Run WITHOUT w and b')\n",
    "run_button_without_wb.on_click(interact_false)\n",
    "output = widgets.Output()\n",
    "\n",
    "display(run_button_with_wb, run_button_without_wb, output)"
   ]
  },
  {
   "cell_type": "markdown",
   "id": "68f49111",
   "metadata": {},
   "source": [
    "### Sheel's Edits"
   ]
  },
  {
   "cell_type": "code",
   "execution_count": 17,
   "id": "d5894c5a",
   "metadata": {},
   "outputs": [],
   "source": [
    "#version of linear regression with w, b text box functionality\n",
    "\n",
    "def linear_regression_EDITED(X_test, y_test, alpha, iterations, num_image_updates, has_w_b, w, b):\n",
    "\n",
    "   \n",
    "    #has_w_b = last_three_params[0]\n",
    "    #w = last_three_params[1]\n",
    "    #b = last_three_params[2]\n",
    "    \n",
    "    if has_w_b == False:\n",
    "        w = 0\n",
    "        b = 0\n",
    "        \n",
    "        #start here\n",
    "        step_size = iterations/num_image_updates\n",
    "    \n",
    "        for i in range(iterations):\n",
    "            dJ_dw = 0\n",
    "            dJ_db = 0\n",
    "            for j in range(len(X_test)):\n",
    "                dJ_dw = dJ_dw + (1/len(X_test))*(w*X_test[j] + b - y_test[j])*X_test[j]\n",
    "                dJ_db = dJ_db + (1/len(X_test))*(w*X_test[j] + b - y_test[j])\n",
    "            w = w - alpha*dJ_dw\n",
    "            b = b - alpha*dJ_db\n",
    "\n",
    "            y_pred = np.empty([len(X_test), 1])\n",
    "            for k in range(len(X_test)):\n",
    "                y_pred[k]  = w*X_test[k] + b\n",
    "\n",
    "            if i % step_size == 0:\n",
    "                plt.clf()\n",
    "                plt.scatter(X_test, y_test, color ='b')\n",
    "                plt.plot(X_test, y_pred, color ='k')\n",
    "                IPython.display.display(plt.gcf())\n",
    "                IPython.display.clear_output(wait=True)\n",
    "                time.sleep(1)\n",
    "                #end here\n",
    "    else:\n",
    "        y_pred = np.empty([len(X_test), 1])\n",
    "        for k in range(len(X_test)):\n",
    "            y_pred[k]  = w*X_test[k] + b\n",
    "\n",
    "        \n",
    "        plt.clf()\n",
    "        plt.scatter(X_test, y_test, color ='b')\n",
    "        plt.plot(X_test, y_pred, color ='k')\n",
    "        IPython.display.display(plt.gcf())\n",
    "        IPython.display.clear_output(wait=True)\n",
    "        time.sleep(1)\n",
    "    \n",
    "    parameters = (w, b)\n",
    "    return parameters"
   ]
  },
  {
   "cell_type": "code",
   "execution_count": 18,
   "id": "8cc19db3",
   "metadata": {},
   "outputs": [
    {
     "data": {
      "application/vnd.jupyter.widget-view+json": {
       "model_id": "b90e405926814024b23d6abe85e83922",
       "version_major": 2,
       "version_minor": 0
      },
      "text/plain": [
       "Text(value='', description='w:')"
      ]
     },
     "metadata": {},
     "output_type": "display_data"
    },
    {
     "data": {
      "application/vnd.jupyter.widget-view+json": {
       "model_id": "297bc00908484df2ab22ef469dc0e998",
       "version_major": 2,
       "version_minor": 0
      },
      "text/plain": [
       "Text(value='', description='b:')"
      ]
     },
     "metadata": {},
     "output_type": "display_data"
    },
    {
     "data": {
      "application/vnd.jupyter.widget-view+json": {
       "model_id": "f9ee7d05685e40a0b8901d7bccac5be8",
       "version_major": 2,
       "version_minor": 0
      },
      "text/plain": [
       "Button(description='Run WITH w and b', style=ButtonStyle())"
      ]
     },
     "metadata": {},
     "output_type": "display_data"
    },
    {
     "data": {
      "application/vnd.jupyter.widget-view+json": {
       "model_id": "58092dcbd4604d5d9219d690ec141989",
       "version_major": 2,
       "version_minor": 0
      },
      "text/plain": [
       "Button(description='Run WITHOUT w and b', style=ButtonStyle())"
      ]
     },
     "metadata": {},
     "output_type": "display_data"
    },
    {
     "data": {
      "application/vnd.jupyter.widget-view+json": {
       "model_id": "4f24ce9d22184866866c078bffc98502",
       "version_major": 2,
       "version_minor": 0
      },
      "text/plain": [
       "Output()"
      ]
     },
     "metadata": {},
     "output_type": "display_data"
    }
   ],
   "source": [
    "#Sheel's edits: two buttons to run the linear regression with and without wb\n",
    "#issues: doesn't clear the image; instead, it displays one after another and then replaces all with final output\n",
    "\n",
    "#also, each run doesn't remove the prevous run's graph!! \n",
    "\n",
    "#NOTE: when running with given w and b that are very far from optimized w and b, the scale of the\n",
    "#plot changes. The scatterplot isn't changing, the best fit line is just so far off that the scale \n",
    "#was altered drastically to show both the points and line. \n",
    "\n",
    "\n",
    "\n",
    "\n",
    "def run_lin_reg_with_wb(button):\n",
    "    w = w_input.value\n",
    "    b = b_input.value\n",
    "    \n",
    "\n",
    "    w = float(w)\n",
    "    b = float(b)\n",
    "\n",
    "    print(w)\n",
    "    print(b)\n",
    "\n",
    "    parameters = (w, b)\n",
    "    \n",
    "    X = np.array(df['Population 2018']).reshape(-1, 1)\n",
    "    y = np.array(df['Total Covid Cases']).reshape(-1, 1)\n",
    "\n",
    "    X_train, X_test, y_train, y_test = train_test_split(X, y, shuffle=True, train_size=0.3)\n",
    "\n",
    "    alpha = 10 ** -16\n",
    "    iterations = 1000\n",
    "    num_image_updates = 20\n",
    "\n",
    "\n",
    "    # parameters = linear_regression_EDITED(X_test, y_test, alpha, iterations, num_image_updates, True, w, b)\n",
    "\n",
    "    # print(parameters)\n",
    "\n",
    "    y_pred = np.empty([len(X_test), 1])\n",
    "    for i in range(len(X_test)):\n",
    "        y_pred[i] = parameters[0]*X_test[i] + parameters[1]\n",
    "    \n",
    "\n",
    "    plt.scatter(X_test, y_test, color ='b')\n",
    "    plt.plot(X_test, y_pred, color ='k')\n",
    "    plt.show()\n",
    "\n",
    "\n",
    "def run_lin_reg_without_wb(button):\n",
    "    #set w and b to 0, not important because not used\n",
    "    w = 0\n",
    "    b = 0\n",
    "\n",
    "    parameters = (0, 0)\n",
    "\n",
    "    X = np.array(df['Population 2018']).reshape(-1, 1)\n",
    "    y = np.array(df['Total Covid Cases']).reshape(-1, 1)\n",
    "\n",
    "    #with this button clicked, user did NOT provided us with w and b\n",
    "    X_train, X_test, y_train, y_test = train_test_split(X, y, shuffle=False, train_size=0.3)\n",
    "\n",
    "    alpha = 10 ** -16\n",
    "    iterations = 1000\n",
    "    num_image_updates = 20\n",
    "\n",
    "    #with this button clicked, user did NOT provided us with w and b\n",
    "    parameters = linear_regression_EDITED(X_test, y_test, alpha, iterations, num_image_updates, False, w, b)\n",
    "\n",
    "    print(parameters)\n",
    "\n",
    "    y_pred = np.empty([len(X_test), 1])\n",
    "    for i in range(len(X_test)):\n",
    "        y_pred[i] = parameters[0]*X_test[i] + parameters[1]\n",
    "\n",
    "    plt.scatter(X_test, y_test, color ='b')\n",
    "    plt.plot(X_test, y_pred, color ='k')\n",
    "    plt.show()\n",
    "\n",
    "\n",
    "#User buttons and text boxes\n",
    "w_input = widgets.Text(description='w:')\n",
    "b_input = widgets.Text(description='b:')\n",
    "run_button_with_wb = widgets.Button(description='Run WITH w and b')\n",
    "run_button_with_wb.on_click(run_lin_reg_with_wb)\n",
    "run_button_without_wb = widgets.Button(description='Run WITHOUT w and b')\n",
    "run_button_without_wb.on_click(run_lin_reg_without_wb)\n",
    "output = widgets.Output()\n",
    "\n",
    "display(w_input, b_input,run_button_with_wb, run_button_without_wb, output)"
   ]
  },
  {
   "cell_type": "markdown",
   "id": "275a902f",
   "metadata": {},
   "source": [
    "### Joey's Edits\n"
   ]
  },
  {
   "cell_type": "code",
   "execution_count": 19,
   "id": "863ef447",
   "metadata": {},
   "outputs": [
    {
     "data": {
      "application/vnd.jupyter.widget-view+json": {
       "model_id": "d171b17aad3d415186bc0ea7d36d49cb",
       "version_major": 2,
       "version_minor": 0
      },
      "text/plain": [
       "VBox(children=(HBox(children=(Text(value='', description='X', placeholder='x1, x2, .....'), Text(value='', des…"
      ]
     },
     "metadata": {},
     "output_type": "display_data"
    }
   ],
   "source": [
    "\n",
    "\n",
    "text_box1 = Text(value='', placeholder='x1, x2, .....', description='X')\n",
    "text_box2 = Text(value='', placeholder='y1, y2, .....', description='Y')\n",
    "button = Button(description='Enter')\n",
    "\n",
    "def on_button_click(b):\n",
    "    x_input = text_box1.value\n",
    "    y_input = text_box2.value\n",
    "    # parse the data and create a plot \n",
    "    x_values = x_input.split(',')\n",
    "    y_values = y_input.split(',')\n",
    "    data = [(float(x_values[i]), float(y_values[i])) for i in range(min(len(x_values), len(y_values)))]\n",
    "    plt.scatter(*zip(*data))\n",
    "    plt.xlabel('X')\n",
    "    plt.ylabel('Y')\n",
    "    plt.show()\n",
    "\n",
    "\n",
    "button.on_click(on_button_click)\n",
    "\n",
    "input_box = HBox([text_box1, text_box2])\n",
    "output_box = VBox([input_box, button])\n",
    "output_box\n",
    "\n"
   ]
  },
  {
   "cell_type": "code",
   "execution_count": 20,
   "id": "4fad2f83",
   "metadata": {},
   "outputs": [],
   "source": [
    "#Sheel's Work: plot button for w and b line"
   ]
  },
  {
   "cell_type": "markdown",
   "id": "731d750e",
   "metadata": {},
   "source": [
    "### Rupa's edits"
   ]
  },
  {
   "cell_type": "code",
   "execution_count": 21,
   "id": "7b7b9f02",
   "metadata": {},
   "outputs": [
    {
     "data": {
      "application/vnd.jupyter.widget-view+json": {
       "model_id": "93adaf8fad1842d38ea59aeb9d94fd81",
       "version_major": 2,
       "version_minor": 0
      },
      "text/plain": [
       "VBox(children=(HBox(children=(Text(value='', description='X', placeholder='x1, x2, .....'), Text(value='', des…"
      ]
     },
     "metadata": {},
     "output_type": "display_data"
    }
   ],
   "source": [
    "\"\"\"\n",
    "# User cell\n",
    "\n",
    "# Getting x,y input, displaying the points\n",
    "x_inp_text_box = Text(value='', placeholder='x1, x2, .....', description='X')\n",
    "y_inp_text_box = Text(value='', placeholder='y1, y2, .....', description='Y')\n",
    "display = Button(description='Click to display x,y on plot')\n",
    "\n",
    "def on_display_click(b):\n",
    "    x_input = x_inp_text_box.value\n",
    "    y_input = y_inp_text_box.value\n",
    "    # parse the data and create a plot\n",
    "    x_values = x_input.split(',')\n",
    "    y_values = y_input.split(',')\n",
    "    data = [(float(x_values[i]), float(y_values[i]))\n",
    "            for i in range(min(len(x_values), len(y_values)))]\n",
    "    plt.clf()\n",
    "    plt.scatter(*zip(*data))\n",
    "    plt.xlabel('X')\n",
    "    plt.ylabel('Y')\n",
    "    plt.show()\n",
    "\n",
    "display.on_click(on_display_click)\n",
    "input_box_x_y = HBox([x_inp_text_box, y_inp_text_box])\n",
    "\n",
    "\n",
    "# Getting w, b, displaying the points and the line given by eqn y = mx+b\n",
    "w_inp_text_box = Text(value='', placeholder='slope value', description='w')\n",
    "b_inp_text_box = Text(value='', placeholder='y-intercept value', description='b')\n",
    "plot = Button(description='Click to plot x,y,input linear function')\n",
    "def on_plot_click(b):\n",
    "    x_input = x_inp_text_box.value\n",
    "    y_input = y_inp_text_box.value\n",
    "    w_input = int(w_inp_text_box.value)\n",
    "    b_input = int(b_inp_text_box.value)\n",
    "    # parse the data and create a plot of the points\n",
    "    x_values = x_input.split(',')\n",
    "    x_values = [int(i) for i in x_values]\n",
    "    y_values = y_input.split(',')\n",
    "    y_values = [int(i) for i in y_values]\n",
    "    data = [(float(x_values[i]), float(y_values[i]))\n",
    "            for i in range(min(len(x_values), len(y_values)))]\n",
    "    plt.clf()\n",
    "    plt.scatter(*zip(*data))\n",
    "\n",
    "    # plot a line with the provided equation\n",
    "    x = x_values\n",
    "    y = [((w_input * int(i))+b_input) for i in x_values]\n",
    "    plt.plot(x, y, '-r')\n",
    "    plt.xlabel('X')\n",
    "    plt.ylabel('Y')\n",
    "    plt.show()\n",
    "plot.on_click(on_plot_click)\n",
    "input_box_w_b = HBox([w_inp_text_box, b_inp_text_box])\n",
    "\n",
    "# Getting alpha, num_iters, running linear regression\n",
    "alpha_inp_text_box = Text(value='', placeholder='learning rate', description='alpha')\n",
    "num_iters_inp_text_box = Text(value='', placeholder='number of iterations to run linear regression for', description='Number of iterations')\n",
    "run_lin_reg = Button(description='Click to run linear regression')\n",
    "\n",
    "def run_lin_regression(b):\n",
    "    x_input = x_inp_text_box.value\n",
    "    y_input = y_inp_text_box.value\n",
    "    alpha_input = float(alpha_inp_text_box.value)\n",
    "    num_iters_input = int(num_iters_inp_text_box.value)\n",
    "    # parse the data and create a plot of the points\n",
    "    x_values = x_input.split(',')\n",
    "    x_values = [int(i) for i in x_values]\n",
    "    y_values = y_input.split(',')\n",
    "    y_values = [int(i) for i in y_values]\n",
    "\n",
    "    step_size = 0.05 * num_iters_input\n",
    "    \n",
    "    w = 0\n",
    "    b = 0\n",
    "\n",
    "    for i in range(num_iters_input):\n",
    "        dJ_dw = 0\n",
    "        dJ_db = 0\n",
    "        for j in range(len(x_values)):\n",
    "            dJ_dw = dJ_dw + (1/len(x_input)) * (w*x_values[j] + b - y_values[j])*x_values[j]\n",
    "            dJ_db = dJ_db + (1/len(x_input))*(w*x_values[j] + b - y_values[j])\n",
    "        \n",
    "        w = w - alpha_input*dJ_dw\n",
    "        b = b - alpha_input*dJ_db\n",
    "        y_pred = np.empty([len(x_values), 1])\n",
    "            \n",
    "        for k in range(len(x_values)):\n",
    "            y_pred[k] = w*x_values[k] + b\n",
    "\n",
    "        if i % step_size == 0:\n",
    "            plt.clf()\n",
    "            plt.scatter(x_values, y_values, color='b')\n",
    "            plt.plot(x_values, y_pred, color='k')\n",
    "            IPython.display.display(plt.gcf())\n",
    "            IPython.display.clear_output(wait=True)\n",
    "            time.sleep(1)\n",
    "    \n",
    "\n",
    "run_lin_reg.on_click(run_lin_regression)\n",
    "input_box_alpha_num_iters = HBox([alpha_inp_text_box, num_iters_inp_text_box])\n",
    "\n",
    "\n",
    "\n",
    "output_box = VBox([input_box_x_y, display, input_box_w_b, plot, input_box_alpha_num_iters, run_lin_reg])\n",
    "output_box\n",
    "\"\"\""
   ]
  },
  {
   "cell_type": "markdown",
   "id": "8338c53a",
   "metadata": {},
   "source": [
    "Sola's Edit of wrapper"
   ]
  },
  {
   "cell_type": "code",
   "execution_count": 22,
   "id": "7edce0eb",
   "metadata": {},
   "outputs": [
    {
     "data": {
      "image/png": "[encoded data removed]",
      "text/plain": [
       "<Figure size 432x288 with 1 Axes>"
      ]
     },
     "metadata": {
      "needs_background": "light"
     },
     "output_type": "display_data"
    }
   ],
   "source": [
    "# User cell\n",
    "\n",
    "# Getting x,y input, displaying the points\n",
    "x_inp_text_box = Text(value='', placeholder='x1, x2, .....', description='X')\n",
    "y_inp_text_box = Text(value='', placeholder='y1, y2, .....', description='Y')\n",
    "display = Button(description='Click to display x,y on plot')\n",
    "\n",
    "def on_display_click(b):\n",
    "    x_input = x_inp_text_box.value\n",
    "    y_input = y_inp_text_box.value\n",
    "    # parse the data and create a plot\n",
    "    x_values = x_input.split(',')\n",
    "    y_values = y_input.split(',')\n",
    "    data = [(float(x_values[i]), float(y_values[i]))\n",
    "            for i in range(min(len(x_values), len(y_values)))]\n",
    "    plt.clf()\n",
    "    plt.scatter(*zip(*data))\n",
    "    plt.xlabel('X')\n",
    "    plt.ylabel('Y')\n",
    "    plt.show()\n",
    "\n",
    "display.on_click(on_display_click)\n",
    "input_box_x_y = HBox([x_inp_text_box, y_inp_text_box])\n",
    "\n",
    "\n",
    "# Getting w, b, displaying the points and the line given by eqn y = mx+b\n",
    "w_inp_text_box = Text(value='', placeholder='slope value', description='w')\n",
    "b_inp_text_box = Text(value='', placeholder='y-intercept value', description='b')\n",
    "plot = Button(description='Click to plot x,y,input linear function')\n",
    "def on_plot_click(b):\n",
    "    x_input = x_inp_text_box.value\n",
    "    y_input = y_inp_text_box.value\n",
    "    w_input = int(w_inp_text_box.value)\n",
    "    b_input = int(b_inp_text_box.value)\n",
    "    # parse the data and create a plot of the points\n",
    "    x_values = x_input.split(',')\n",
    "    x_values = [int(i) for i in x_values]\n",
    "    y_values = y_input.split(',')\n",
    "    y_values = [int(i) for i in y_values]\n",
    "    data = [(float(x_values[i]), float(y_values[i]))\n",
    "            for i in range(min(len(x_values), len(y_values)))]\n",
    "    plt.clf()\n",
    "    plt.scatter(*zip(*data))\n",
    "\n",
    "    # plot a line with the provided equation\n",
    "    x = x_values\n",
    "    y = [((w_input * int(i))+b_input) for i in x_values]\n",
    "    plt.plot(x, y, '-r')\n",
    "    plt.xlabel('X')\n",
    "    plt.ylabel('Y')\n",
    "    plt.show()\n",
    "plot.on_click(on_plot_click)\n",
    "input_box_w_b = HBox([w_inp_text_box, b_inp_text_box])\n",
    "\n",
    "# Getting alpha, num_iters, running linear regression\n",
    "alpha_inp_text_box = Text(value='', placeholder='learning rate', description='alpha')\n",
    "num_iters_inp_text_box = Text(value='', placeholder='number of iterations to run linear regression for', description='Number of iterations')\n",
    "run_lin_reg = Button(description='Click to run linear regression')\n",
    "\n",
    "def run_lin_regression(b):\n",
    "    x_input = x_inp_text_box.value\n",
    "    y_input = y_inp_text_box.value\n",
    "    alpha_input = float(alpha_inp_text_box.value)\n",
    "    num_iters_input = int(num_iters_inp_text_box.value)\n",
    "    # parse the data and create a plot of the points\n",
    "    x_values = x_input.split(',')\n",
    "    x_values = [int(i) for i in x_values]\n",
    "    y_values = y_input.split(',')\n",
    "    y_values = [int(i) for i in y_values]\n",
    "\n",
    "    step_size = 0.05 * num_iters_input\n",
    "    \n",
    "    w = 0\n",
    "    b = 0\n",
    "\n",
    "    for i in range(num_iters_input):\n",
    "        dJ_dw = 0\n",
    "        dJ_db = 0\n",
    "        for j in range(len(x_values)):\n",
    "            dJ_dw = dJ_dw + (1/len(x_input)) * (w*x_values[j] + b - y_values[j])*x_values[j]\n",
    "            dJ_db = dJ_db + (1/len(x_input))*(w*x_values[j] + b - y_values[j])\n",
    "        \n",
    "        w = w - alpha_input*dJ_dw\n",
    "        b = b - alpha_input*dJ_db\n",
    "        y_pred = np.empty([len(x_values), 1])\n",
    "            \n",
    "        for k in range(len(x_values)):\n",
    "            y_pred[k] = w*x_values[k] + b\n",
    "\n",
    "        if i % step_size == 0:\n",
    "            plt.clf()\n",
    "            plt.scatter(x_values, y_values, color='b')\n",
    "            plt.plot(x_values, y_pred, color='k')\n",
    "            IPython.display.display(plt.gcf())\n",
    "            time.sleep(2)\n",
    "            IPython.display.clear_output(wait = False)\n",
    "            \n",
    "            \n",
    "run_lin_reg.on_click(run_lin_regression)\n",
    "input_box_alpha_num_iters = HBox([alpha_inp_text_box, num_iters_inp_text_box])\n",
    "\n",
    "\n",
    "\n",
    "output_box = VBox([input_box_x_y, display, input_box_w_b, plot, input_box_alpha_num_iters, run_lin_reg])\n",
    "output_box"
   ]
  }
 ],
 "metadata": {
  "kernelspec": {
   "display_name": "Python 3 (ipykernel)",
   "language": "python",
   "name": "python3"
  },
  "language_info": {
   "codemirror_mode": {
    "name": "ipython",
    "version": 3
   },
   "file_extension": ".py",
   "mimetype": "text/x-python",
   "name": "python",
   "nbconvert_exporter": "python",
   "pygments_lexer": "ipython3",
   "version": "3.9.7"
  },
  "vscode": {
   "interpreter": {
    "hash": "31f2aee4e71d21fbe5cf8b01ff0e069b9275f58929596ceb00d14d90e3e16cd6"
   }
  }
 },
 "nbformat": 4,
 "nbformat_minor": 5
}
