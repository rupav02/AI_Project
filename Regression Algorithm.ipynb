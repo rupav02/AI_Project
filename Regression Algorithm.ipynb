{
 "cells": [
  {
   "cell_type": "code",
   "execution_count": null,
   "id": "7b8a91f7",
   "metadata": {},
   "outputs": [],
   "source": [
    "import numpy as np\n",
    "import pandas as pd\n",
    "import matplotlib.pyplot as plt\n",
    "import seaborn as sns\n",
    "from sklearn import preprocessing, svm\n",
    "from sklearn.model_selection import train_test_split\n",
    "#from sklearn.linear_model import LinearRegression\n",
    "from scipy import signal\n",
    "from scipy.signal import savgol_filter\n",
    "from sklearn.metrics import mean_squared_error, r2_score"
   ]
  },
  {
   "cell_type": "code",
   "execution_count": null,
   "id": "18e19f37",
   "metadata": {},
   "outputs": [],
   "source": [
    "dataframe3 = pd.read_excel('COVID-19 US state policy database 6_10_2021.xlsx')\n",
    "df2 = pd.read_csv('time_series_covid_19_confirmed_US.csv')"
   ]
  },
  {
   "cell_type": "code",
   "execution_count": null,
   "id": "2392ace9",
   "metadata": {},
   "outputs": [],
   "source": [
    "states = (df2['Province_State'].unique())\n",
    "row = []\n",
    "popValues = []\n",
    "for state in states:\n",
    "    r = df2.loc[df2[\"Province_State\"] == state, \"5/29/21\"]\n",
    "    sum_row = r.sum(axis=0)\n",
    "    row.append(sum_row)\n",
    "df = pd.DataFrame(row) \n",
    "df.columns = [\"Total Covid Cases\"]\n",
    "for index, state in enumerate(states):\n",
    "    df.rename(index={index: state}, inplace=True)\n",
    "df = df.drop([\"American Samoa\", \"Diamond Princess\", \"Grand Princess\", \"Northern Mariana Islands\", \"Guam\", \"Puerto Rico\", \"Virgin Islands\" ], axis=0)\n",
    "r = dataframe3.loc[:,\"POP18\"]\n",
    "for index, val in enumerate(r):\n",
    "    if index > 3:\n",
    "        popValues.append(val)\n",
    "df[\"Population 2018\"] = popValues\n",
    "\n",
    "sns.lmplot(x =\"Population 2018\", y =\"Total Covid Cases\", data = df, order = 2, ci = None)\n"
   ]
  },
  {
   "cell_type": "code",
   "execution_count": null,
   "id": "a130e178",
   "metadata": {},
   "outputs": [],
   "source": [
    "def linear_regression(X_test, y_test):\n",
    "    w = 0\n",
    "    b = 0\n",
    "    alpha = 10 ** -20\n",
    "    iterations = 10000\n",
    "\n",
    "    for i in range(iterations):\n",
    "        dJ_dw = (1/len(X_test))*sum((w*X_test + b - y_test)*X_test)\n",
    "        dJ_db = (1/len(X_test))*sum(w*X_test + b - y_test)\n",
    "        w = w - alpha*dJ_dw\n",
    "        b = b - alpha*dJ_db\n",
    "    \n",
    "    parameters = (w, b)\n",
    "    return parameters"
   ]
  },
  {
   "cell_type": "code",
   "execution_count": null,
   "id": "79e337df",
   "metadata": {},
   "outputs": [],
   "source": [
    "X = np.array(df['Population 2018']).reshape(-1, 1)\n",
    "y = np.array(df['Total Covid Cases']).reshape(-1, 1)\n",
    "\n",
    "X_train, X_test, y_train, y_test = train_test_split(X, y, shuffle=True, train_size=0.3)\n",
    "\n",
    "parameters = linear_regression(X_test, y_test)\n",
    "print(parameters)\n",
    "\n",
    "y_pred = np.empty([len(X_test), 1])\n",
    "for i in range(len(X_test)):\n",
    "    y_pred[i]  = parameters[0]*X_test[i] + parameters[1]\n",
    "\n",
    "plt.scatter(X_test, y_test, color ='b')\n",
    "plt.plot(X_test, y_pred, color ='k')\n",
    "plt.show()\n"
   ]
  },
  {
   "cell_type": "code",
   "execution_count": null,
   "id": "7432cd7a",
   "metadata": {},
   "outputs": [],
   "source": [
    "#y_pred = regr.predict(X_test)\n",
    "r2 = r2_score(y_test, y_pred)\n",
    "rmse = mean_squared_error(y_test, y_pred, squared=False)\n",
    "print(r2)\n",
    "print(rmse)\n",
    "plt.scatter(X_test, y_test, color ='b')\n",
    "plt.plot(X_test, y_pred, color ='k')\n",
    "plt.show()"
   ]
  },
  {
   "cell_type": "code",
   "execution_count": null,
   "id": "714d5300",
   "metadata": {},
   "outputs": [],
   "source": [
    "import numpy as np\n",
    "import matplotlib.pyplot as plt\n",
    "from matplotlib.widgets import Slider, Button\n",
    "%matplotlib\n",
    "\n",
    "# The parametrized function to be plotted\n",
    "def f(t, amplitude, frequency):\n",
    "    return amplitude * np.sin(2 * np.pi * frequency * t)\n",
    "\n",
    "\n",
    "t = np.linspace(0, 1, 1000)\n",
    "\n",
    "# Define initial parameters\n",
    "init_amplitude = 5\n",
    "init_frequency = 3\n",
    "\n",
    "# Create the figure and the line that we will manipulate\n",
    "fig, ax = plt.subplots()\n",
    "line, = ax.plot(t, f(t, init_amplitude, init_frequency), lw=2)\n",
    "ax.set_xlabel('Time [s]')\n",
    "\n",
    "# adjust the main plot to make room for the sliders\n",
    "fig.subplots_adjust(left=0.25, bottom=0.25)\n",
    "\n",
    "# Make a horizontal slider to control the frequency.\n",
    "axfreq = fig.add_axes([0.25, 0.1, 0.65, 0.03])\n",
    "freq_slider = Slider(\n",
    "    ax=axfreq,\n",
    "    label='Frequency [Hz]',\n",
    "    valmin=0.1,\n",
    "    valmax=30,\n",
    "    valinit=init_frequency,\n",
    ")\n",
    "\n",
    "# Make a vertically oriented slider to control the amplitude\n",
    "axamp = fig.add_axes([0.1, 0.25, 0.0225, 0.63])\n",
    "amp_slider = Slider(\n",
    "    ax=axamp,\n",
    "    label=\"Amplitude\",\n",
    "    valmin=0,\n",
    "    valmax=10,\n",
    "    valinit=init_amplitude,\n",
    "    orientation=\"vertical\"\n",
    ")\n",
    "\n",
    "\n",
    "# The function to be called anytime a slider's value changes\n",
    "def update(val):\n",
    "    line.set_ydata(f(t, amp_slider.val, freq_slider.val))\n",
    "    fig.canvas.draw_idle()\n",
    "\n",
    "\n",
    "# register the update function with each slider\n",
    "freq_slider.on_changed(update)\n",
    "amp_slider.on_changed(update)\n",
    "\n",
    "# Create a `matplotlib.widgets.Button` to reset the sliders to initial values.\n",
    "resetax = fig.add_axes([0.8, 0.025, 0.1, 0.04])\n",
    "button = Button(resetax, 'Reset', hovercolor='0.975')\n",
    "\n",
    "\n",
    "def reset(event):\n",
    "    freq_slider.reset()\n",
    "    amp_slider.reset()\n",
    "\n",
    "\n",
    "button.on_clicked(reset)\n",
    "\n",
    "plt.show()\n"
   ]
  },
  {
   "cell_type": "code",
   "execution_count": null,
   "id": "1018d229",
   "metadata": {},
   "outputs": [],
   "source": []
  }
 ],
 "metadata": {
  "kernelspec": {
   "display_name": "Python 3.8.9 64-bit",
   "language": "python",
   "name": "python3"
  },
  "language_info": {
   "codemirror_mode": {
    "name": "ipython",
    "version": 3
   },
   "file_extension": ".py",
   "mimetype": "text/x-python",
   "name": "python",
   "nbconvert_exporter": "python",
   "pygments_lexer": "ipython3",
   "version": "3.8.3"
  },
  "vscode": {
   "interpreter": {
    "hash": "31f2aee4e71d21fbe5cf8b01ff0e069b9275f58929596ceb00d14d90e3e16cd6"
   }
  }
 },
 "nbformat": 4,
 "nbformat_minor": 5
}
