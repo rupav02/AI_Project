{
 "cells": [
  {
   "cell_type": "code",
   "execution_count": null,
   "id": "7b8a91f7",
   "metadata": {},
   "outputs": [],
   "source": [
    "import numpy as np\n",
    "import pandas as pd\n",
    "import matplotlib.pyplot as plt\n",
    "import seaborn as sns\n",
    "from sklearn import preprocessing, svm\n",
    "from sklearn.model_selection import train_test_split\n",
    "from sklearn.linear_model import LinearRegression\n",
    "from scipy import signal\n",
    "from scipy.signal import savgol_filter\n",
    "from sklearn.metrics import mean_squared_error, r2_score\n",
    "from IPython import display\n",
    "import time"
   ]
  },
  {
   "cell_type": "code",
   "execution_count": null,
   "id": "18e19f37",
   "metadata": {},
   "outputs": [],
   "source": [
    "dataframe3 = pd.read_excel('COVID-19 US state policy database 6_10_2021.xlsx')\n",
    "df2 = pd.read_csv('time_series_covid_19_confirmed_US.csv')"
   ]
  },
  {
   "cell_type": "code",
   "execution_count": null,
   "id": "2392ace9",
   "metadata": {},
   "outputs": [],
   "source": [
    "states = (df2['Province_State'].unique())\n",
    "row = []\n",
    "popValues = []\n",
    "for state in states:\n",
    "    r = df2.loc[df2[\"Province_State\"] == state, \"5/29/21\"]\n",
    "    sum_row = r.sum(axis=0)\n",
    "    row.append(sum_row)\n",
    "df = pd.DataFrame(row) \n",
    "df.columns = [\"Total Covid Cases\"]\n",
    "for index, state in enumerate(states):\n",
    "    df.rename(index={index: state}, inplace=True)\n",
    "df = df.drop([\"American Samoa\", \"Diamond Princess\", \"Grand Princess\", \"Northern Mariana Islands\", \"Guam\", \"Puerto Rico\", \"Virgin Islands\" ], axis=0)\n",
    "r = dataframe3.loc[:,\"POP18\"]\n",
    "for index, val in enumerate(r):\n",
    "    if index > 3:\n",
    "        popValues.append(val)\n",
    "df[\"Population 2018\"] = popValues\n",
    "\n",
    "sns.lmplot(x =\"Population 2018\", y =\"Total Covid Cases\", data = df, order = 2, ci = None)\n"
   ]
  },
  {
   "cell_type": "code",
   "execution_count": null,
   "id": "a130e178",
   "metadata": {},
   "outputs": [],
   "source": [
    "def linear_regression(X_test, y_test, alpha, iterations, num_image_updates):\n",
    "    w = 0\n",
    "    b = 0\n",
    "    step_size = iterations/num_image_updates\n",
    "\n",
    "    for i in range(iterations):\n",
    "        dJ_dw = 0\n",
    "        dJ_db = 0\n",
    "        for j in range(len(X_test)):\n",
    "            dJ_dw = dJ_dw + (1/len(X_test))*(w*X_test[j] + b - y_test[j])*X_test[j]\n",
    "            dJ_db = dJ_db + (1/len(X_test))*(w*X_test[j] + b - y_test[j])\n",
    "        w = w - alpha*dJ_dw\n",
    "        b = b - alpha*dJ_db\n",
    "\n",
    "        y_pred = np.empty([len(X_test), 1])\n",
    "        for k in range(len(X_test)):\n",
    "            y_pred[k]  = w*X_test[k] + b\n",
    "\n",
    "        if i % step_size == 0:\n",
    "            plt.clf()\n",
    "            plt.scatter(X_test, y_test, color ='b')\n",
    "            plt.plot(X_test, y_pred, color ='k')\n",
    "            display.display(plt.gcf())\n",
    "            display.clear_output(wait=True)\n",
    "            time.sleep(1)\n",
    "    \n",
    "    parameters = (w, b)\n",
    "    return parameters"
   ]
  },
  {
   "cell_type": "code",
   "execution_count": null,
   "id": "79e337df",
   "metadata": {},
   "outputs": [],
   "source": [
    "X = np.array(df['Population 2018']).reshape(-1, 1)\n",
    "y = np.array(df['Total Covid Cases']).reshape(-1, 1)\n",
    "\n",
    "X_train, X_test, y_train, y_test = train_test_split(X, y, shuffle=True, train_size=0.3)\n",
    "\n",
    "alpha = 10 ** -16\n",
    "iterations = 1000\n",
    "num_image_updates = 20\n",
    "parameters = linear_regression(X_test, y_test, alpha, iterations, num_image_updates)\n",
    "print(parameters)\n",
    "\n",
    "\n",
    "#doesn't the lin regression function above already calculate and plot the predictions (line)?\n",
    "y_pred = np.empty([len(X_test), 1])\n",
    "for i in range(len(X_test)):\n",
    "    y_pred[i]  = parameters[0]*X_test[i] + parameters[1]\n",
    "\n",
    "plt.scatter(X_test, y_test, color ='b')\n",
    "plt.plot(X_test, y_pred, color ='k')\n",
    "plt.show()"
   ]
  },
  {
   "cell_type": "code",
   "execution_count": null,
   "id": "dfa7bcf9",
   "metadata": {},
   "outputs": [],
   "source": [
    "from ipywidgets import interact, interactive, fixed, interact_manual\n",
    "import ipywidgets as widgets\n",
    "\n",
    "def f(x):\n",
    "    return x\n",
    "\n",
    "def g(w, b):\n",
    "    if(w != '' and b != ''):\n",
    "        return int(w) + int(b)"
   ]
  },
  {
   "cell_type": "code",
   "execution_count": null,
   "id": "4b75678e",
   "metadata": {},
   "outputs": [],
   "source": [
    "interact(f, x=10)"
   ]
  },
  {
   "cell_type": "code",
   "execution_count": null,
   "id": "0f86d85e",
   "metadata": {},
   "outputs": [],
   "source": [
    "interact(g, w = '', b = '')"
   ]
  },
  {
   "cell_type": "code",
   "execution_count": null,
   "id": "09464f1d",
   "metadata": {},
   "outputs": [],
   "source": [
    "#version of linear regression with w, b text box functionality\n",
    "\n",
    "\n",
    "def linear_regression(X_test, y_test, alpha, iterations, num_image_updates, has_w_b, w, b):\n",
    "    \n",
    "    #has_w_b = last_three_params[0]\n",
    "    #w = last_three_params[1]\n",
    "    #b = last_three_params[2]\n",
    "    \n",
    "    if has_w_b == False:\n",
    "        w = 0\n",
    "        b = 0\n",
    "        \n",
    "        step_size = iterations/num_image_updates\n",
    "    \n",
    "        for i in range(iterations):\n",
    "            dJ_dw = 0\n",
    "            dJ_db = 0\n",
    "            for j in range(len(X_test)):\n",
    "                dJ_dw = dJ_dw + (1/len(X_test))*(w*X_test[j] + b - y_test[j])*X_test[j]\n",
    "                dJ_db = dJ_db + (1/len(X_test))*(w*X_test[j] + b - y_test[j])\n",
    "            w = w - alpha*dJ_dw\n",
    "            b = b - alpha*dJ_db\n",
    "\n",
    "            y_pred = np.empty([len(X_test), 1])\n",
    "            for k in range(len(X_test)):\n",
    "                y_pred[k]  = w*X_test[k] + b\n",
    "\n",
    "            if i % step_size == 0:\n",
    "                plt.clf()\n",
    "                plt.scatter(X_test, y_test, color ='b')\n",
    "                plt.plot(X_test, y_pred, color ='k')\n",
    "                display.display(plt.gcf())\n",
    "                display.clear_output(wait=True)\n",
    "                time.sleep(1)\n",
    "    else:\n",
    "        y_pred = np.empty([len(X_test), 1])\n",
    "        for k in range(len(X_test)):\n",
    "            y_pred[k]  = w*X_test[k] + b\n",
    "\n",
    "        \n",
    "        plt.clf()\n",
    "        plt.scatter(X_test, y_test, color ='b')\n",
    "        plt.plot(X_test, y_pred, color ='k')\n",
    "        display.display(plt.gcf())\n",
    "        display.clear_output(wait=True)\n",
    "        time.sleep(1)\n",
    "    \n",
    "    parameters = (w, b)\n",
    "    return parameters"
   ]
  },
  {
   "cell_type": "code",
   "execution_count": 58,
   "id": "520cc78a",
   "metadata": {},
   "outputs": [],
   "source": [
    "def run_lin_reg(has_w_b, w, b):\n",
    "    parameters = (0,0)\n",
    "    #replace has_w_b text with a button or checkbox\n",
    "    if(w != '' and b != '' and has_w_b == \"True\"):\n",
    "        w = float(w)\n",
    "        b = float(b)\n",
    "\n",
    "    X = np.array(df['Population 2018']).reshape(-1, 1)\n",
    "    y = np.array(df['Total Covid Cases']).reshape(-1, 1)\n",
    "\n",
    "    X_train, X_test, y_train, y_test = train_test_split(X, y, shuffle=True, train_size=0.3)\n",
    "\n",
    "    alpha = 10 ** -16\n",
    "    iterations = 1000\n",
    "    num_image_updates = 20\n",
    "\n",
    "    #has_w_b is in place of the button\n",
    "    #for button, if you press the button for running linear regression with w and b, it will set it to True; if you press the button for regular linear regression, it will set it to false\n",
    "    \n",
    "    #can add a button pressed condition here\n",
    "    if(w != '' and b != ''):\n",
    "        parameters = linear_regression(X_test, y_test, alpha, iterations, num_image_updates, True, w, b)\n",
    "\n",
    "    print(parameters)\n",
    "\n",
    "    y_pred = np.empty([len(X_test), 1])\n",
    "    for i in range(len(X_test)):\n",
    "        y_pred[i]  = parameters[0]*X_test[i] + parameters[1]\n",
    "\n",
    "    plt.scatter(X_test, y_test, color ='b')\n",
    "    plt.plot(X_test, y_pred, color ='k')\n",
    "    plt.show()\n",
    "\n",
    "    return"
   ]
  },
  {
   "attachments": {},
   "cell_type": "markdown",
   "id": "68f49111",
   "metadata": {},
   "source": [
    "### Sheel's Edits"
   ]
  },
  {
   "cell_type": "code",
   "execution_count": 57,
   "id": "d5894c5a",
   "metadata": {},
   "outputs": [],
   "source": [
    "#version of linear regression with w, b text box functionality\n",
    "\n",
    "def linear_regression_EDITED(X_test, y_test, alpha, iterations, num_image_updates, has_w_b, w, b):\n",
    "    import IPython\n",
    "   \n",
    "    #has_w_b = last_three_params[0]\n",
    "    #w = last_three_params[1]\n",
    "    #b = last_three_params[2]\n",
    "    \n",
    "    if has_w_b == False:\n",
    "        w = 0\n",
    "        b = 0\n",
    "        \n",
    "        step_size = iterations/num_image_updates\n",
    "    \n",
    "        for i in range(iterations):\n",
    "            dJ_dw = 0\n",
    "            dJ_db = 0\n",
    "            for j in range(len(X_test)):\n",
    "                dJ_dw = dJ_dw + (1/len(X_test))*(w*X_test[j] + b - y_test[j])*X_test[j]\n",
    "                dJ_db = dJ_db + (1/len(X_test))*(w*X_test[j] + b - y_test[j])\n",
    "            w = w - alpha*dJ_dw\n",
    "            b = b - alpha*dJ_db\n",
    "\n",
    "            y_pred = np.empty([len(X_test), 1])\n",
    "            for k in range(len(X_test)):\n",
    "                y_pred[k]  = w*X_test[k] + b\n",
    "\n",
    "            if i % step_size == 0:\n",
    "                plt.clf()\n",
    "                plt.scatter(X_test, y_test, color ='b')\n",
    "                plt.plot(X_test, y_pred, color ='k')\n",
    "                IPython.display.display(plt.gcf())\n",
    "                IPython.display.clear_output(wait=True)\n",
    "                time.sleep(1)\n",
    "    else:\n",
    "        y_pred = np.empty([len(X_test), 1])\n",
    "        for k in range(len(X_test)):\n",
    "            y_pred[k]  = w*X_test[k] + b\n",
    "\n",
    "        \n",
    "        plt.clf()\n",
    "        plt.scatter(X_test, y_test, color ='b')\n",
    "        plt.plot(X_test, y_pred, color ='k')\n",
    "        IPython.display.display(plt.gcf())\n",
    "        IPython.display.clear_output(wait=True)\n",
    "        time.sleep(1)\n",
    "    \n",
    "    parameters = (w, b)\n",
    "    return parameters"
   ]
  },
  {
   "cell_type": "code",
   "execution_count": 70,
   "id": "8cc19db3",
   "metadata": {},
   "outputs": [
    {
     "data": {
      "application/vnd.jupyter.widget-view+json": {
       "model_id": "fdf9d17eb66a4d16958026d8c5f0c862",
       "version_major": 2,
       "version_minor": 0
      },
      "text/plain": [
       "Text(value='', description='w:')"
      ]
     },
     "metadata": {},
     "output_type": "display_data"
    },
    {
     "data": {
      "application/vnd.jupyter.widget-view+json": {
       "model_id": "2820c54297c243fab306e4161c8ad006",
       "version_major": 2,
       "version_minor": 0
      },
      "text/plain": [
       "Text(value='', description='b:')"
      ]
     },
     "metadata": {},
     "output_type": "display_data"
    },
    {
     "data": {
      "application/vnd.jupyter.widget-view+json": {
       "model_id": "6fe0495df22d44b29f5a91b05d983e3d",
       "version_major": 2,
       "version_minor": 0
      },
      "text/plain": [
       "Button(description='Run WITH w and b', style=ButtonStyle())"
      ]
     },
     "metadata": {},
     "output_type": "display_data"
    },
    {
     "data": {
      "application/vnd.jupyter.widget-view+json": {
       "model_id": "2f21e9eb492d4a6d9895c9241a950f5e",
       "version_major": 2,
       "version_minor": 0
      },
      "text/plain": [
       "Button(description='Run WITHOUT w and b', style=ButtonStyle())"
      ]
     },
     "metadata": {},
     "output_type": "display_data"
    },
    {
     "data": {
      "application/vnd.jupyter.widget-view+json": {
       "model_id": "ce391a410a004e0fb56aeda214ac2e9d",
       "version_major": 2,
       "version_minor": 0
      },
      "text/plain": [
       "Output()"
      ]
     },
     "metadata": {},
     "output_type": "display_data"
    }
   ],
   "source": [
    "#Sheel's edits: two buttons to run the linear regression with and without wb\n",
    "#issues: doesn't clear the image; instead, it displays one after another and then replaces all with final output\n",
    "\n",
    "#also, each run doesn't remove the prevous run's graph!! \n",
    "\n",
    "#NOTE: when running with given w and b that are very far from optimized w and b, the scale of the\n",
    "#plot changes. The scatterplot isn't changing, the best fit line is just so far off that the scale \n",
    "#was altered drastically to show both the points and line. \n",
    "\n",
    "import ipywidgets as widgets\n",
    "import numpy as np\n",
    "import matplotlib.pyplot as plt\n",
    "from sklearn.model_selection import train_test_split\n",
    "from IPython.display import display\n",
    "\n",
    "\n",
    "def run_lin_reg_with_wb(button):\n",
    "    w = w_input.value\n",
    "    b = b_input.value\n",
    "    \n",
    "\n",
    "    w = float(w)\n",
    "    b = float(b)\n",
    "\n",
    "    print(w)\n",
    "    print(b)\n",
    "\n",
    "    parameters = (w, b)\n",
    "    \n",
    "    X = np.array(df['Population 2018']).reshape(-1, 1)\n",
    "    y = np.array(df['Total Covid Cases']).reshape(-1, 1)\n",
    "\n",
    "    X_train, X_test, y_train, y_test = train_test_split(X, y, shuffle=True, train_size=0.3)\n",
    "\n",
    "    alpha = 10 ** -16\n",
    "    iterations = 1000\n",
    "    num_image_updates = 20\n",
    "\n",
    "\n",
    "    # parameters = linear_regression_EDITED(X_test, y_test, alpha, iterations, num_image_updates, True, w, b)\n",
    "\n",
    "    # print(parameters)\n",
    "\n",
    "    y_pred = np.empty([len(X_test), 1])\n",
    "    for i in range(len(X_test)):\n",
    "        y_pred[i] = parameters[0]*X_test[i] + parameters[1]\n",
    "    \n",
    "    print(y_pred)\n",
    "\n",
    "    plt.scatter(X_test, y_test, color ='b')\n",
    "    plt.plot(X_test, y_pred, color ='k')\n",
    "    plt.show()\n",
    "\n",
    "\n",
    "def run_lin_reg_without_wb(button):\n",
    "    #set w and b to 0, not important because not used\n",
    "    w = 0\n",
    "    b = 0\n",
    "\n",
    "    parameters = (0, 0)\n",
    "\n",
    "    X = np.array(df['Population 2018']).reshape(-1, 1)\n",
    "    y = np.array(df['Total Covid Cases']).reshape(-1, 1)\n",
    "\n",
    "    #with this button clicked, user did NOT provided us with w and b\n",
    "    X_train, X_test, y_train, y_test = train_test_split(X, y, shuffle=False, train_size=0.3)\n",
    "\n",
    "    alpha = 10 ** -16\n",
    "    iterations = 1000\n",
    "    num_image_updates = 20\n",
    "\n",
    "    #with this button clicked, user did NOT provided us with w and b\n",
    "    parameters = linear_regression_EDITED(X_test, y_test, alpha, iterations, num_image_updates, False, w, b)\n",
    "\n",
    "    print(parameters)\n",
    "\n",
    "    y_pred = np.empty([len(X_test), 1])\n",
    "    for i in range(len(X_test)):\n",
    "        y_pred[i] = parameters[0]*X_test[i] + parameters[1]\n",
    "\n",
    "    plt.scatter(X_test, y_test, color ='b')\n",
    "    plt.plot(X_test, y_pred, color ='k')\n",
    "    plt.show()\n",
    "\n",
    "\n",
    "#User buttons and text boxes\n",
    "w_input = widgets.Text(description='w:')\n",
    "b_input = widgets.Text(description='b:')\n",
    "run_button_with_wb = widgets.Button(description='Run WITH w and b')\n",
    "run_button_with_wb.on_click(run_lin_reg_with_wb)\n",
    "run_button_without_wb = widgets.Button(description='Run WITHOUT w and b')\n",
    "run_button_without_wb.on_click(run_lin_reg_without_wb)\n",
    "output = widgets.Output()\n",
    "\n",
    "display(w_input, b_input,run_button_with_wb, run_button_without_wb, output)"
   ]
  },
  {
   "attachments": {},
   "cell_type": "markdown",
   "id": "275a902f",
   "metadata": {},
   "source": [
    "### Joey's Edits\n"
   ]
  },
  {
   "attachments": {},
   "cell_type": "markdown",
   "id": "2aeb7ea2",
   "metadata": {},
   "source": []
  },
  {
   "attachments": {},
   "cell_type": "markdown",
   "id": "e7a507f2",
   "metadata": {},
   "source": [
    "Joey's work "
   ]
  },
  {
   "cell_type": "code",
   "execution_count": null,
   "id": "863ef447",
   "metadata": {},
   "outputs": [],
   "source": [
    "from ipywidgets import HBox, VBox, Text, Button\n",
    "import matplotlib.pyplot as plt\n",
    "\n",
    "text_box1 = Text(value='', placeholder='x1, x2, .....', description='X')\n",
    "text_box2 = Text(value='', placeholder='y1, y2, .....', description='Y')\n",
    "button = Button(description='Enter')\n",
    "\n",
    "def on_button_click(b):\n",
    "    x_input = text_box1.value\n",
    "    y_input = text_box2.value\n",
    "    # parse the data and create a plot \n",
    "    x_values = x_input.split(',')\n",
    "    y_values = y_input.split(',')\n",
    "    data = [(float(x_values[i]), float(y_values[i])) for i in range(min(len(x_values), len(y_values)))]\n",
    "    plt.scatter(*zip(*data))\n",
    "    plt.xlabel('X')\n",
    "    plt.ylabel('Y')\n",
    "    plt.show()\n",
    "\n",
    "\n",
    "button.on_click(on_button_click)\n",
    "\n",
    "input_box = HBox([text_box1, text_box2])\n",
    "output_box = VBox([input_box, button])\n",
    "output_box\n",
    "\n"
   ]
  },
  {
   "cell_type": "code",
   "execution_count": null,
   "id": "4fad2f83",
   "metadata": {},
   "outputs": [],
   "source": [
    "#Sheel's Work: plot button for w and b line"
   ]
  }
 ],
 "metadata": {
  "kernelspec": {
   "display_name": "Python 3.8.9 64-bit",
   "language": "python",
   "name": "python3"
  },
  "language_info": {
   "codemirror_mode": {
    "name": "ipython",
    "version": 3
   },
   "file_extension": ".py",
   "mimetype": "text/x-python",
   "name": "python",
   "nbconvert_exporter": "python",
   "pygments_lexer": "ipython3",
   "version": "3.8.3"
  },
  "vscode": {
   "interpreter": {
    "hash": "31f2aee4e71d21fbe5cf8b01ff0e069b9275f58929596ceb00d14d90e3e16cd6"
   }
  }
 },
 "nbformat": 4,
 "nbformat_minor": 5
}
