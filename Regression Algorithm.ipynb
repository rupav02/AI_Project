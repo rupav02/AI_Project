{
 "cells": [
  {
   "attachments": {},
   "cell_type": "markdown",
   "id": "eb392e87",
   "metadata": {},
   "source": [
    "### Imports and data cleaning"
   ]
  },
  {
   "cell_type": "code",
   "execution_count": 2,
   "id": "7b8a91f7",
   "metadata": {},
   "outputs": [],
   "source": [
    "import numpy as np\n",
    "import pandas as pd\n",
    "import matplotlib.pyplot as plt\n",
    "import seaborn as sns\n",
    "from sklearn import preprocessing, svm\n",
    "from sklearn.model_selection import train_test_split\n",
    "from sklearn.linear_model import LinearRegression\n",
    "from scipy import signal\n",
    "from scipy.signal import savgol_filter\n",
    "from sklearn.metrics import mean_squared_error, r2_score\n",
    "from IPython import display\n",
    "import time\n",
    "import IPython\n",
    "from ipywidgets import interact, interactive, fixed, interact_manual\n",
    "import ipywidgets as widgets\n",
    "from ipywidgets import HBox, VBox, Text, Button\n",
    "from IPython.display import display\n",
    "import matplotlib.pyplot as plt"
   ]
  },
  {
   "attachments": {},
   "cell_type": "markdown",
   "id": "731d750e",
   "metadata": {},
   "source": [
    "### Welcome to the Linear Regression Tool!"
   ]
  },
  {
   "cell_type": "code",
   "execution_count": 3,
   "id": "7edce0eb",
   "metadata": {},
   "outputs": [
    {
     "data": {
      "image/png": "[encoded data removed]",
      "text/plain": [
       "<Figure size 640x480 with 1 Axes>"
      ]
     },
     "metadata": {},
     "output_type": "display_data"
    }
   ],
   "source": [
    "# User cell\n",
    "\n",
    "# Getting x,y input, displaying the points\n",
    "x_inp_text_box = Text(value='', placeholder='x1, x2, .....', description='X')\n",
    "y_inp_text_box = Text(value='', placeholder='y1, y2, .....', description='Y')\n",
    "display = Button(description='Click to display x,y on plot')\n",
    "\n",
    "def on_display_click(b):\n",
    "    x_input = x_inp_text_box.value\n",
    "    y_input = y_inp_text_box.value\n",
    "    # parse the data and create a plot\n",
    "    x_values = x_input.split(',')\n",
    "    y_values = y_input.split(',')\n",
    "    data = [(float(x_values[i]), float(y_values[i]))\n",
    "            for i in range(min(len(x_values), len(y_values)))]\n",
    "    plt.clf()\n",
    "    plt.scatter(*zip(*data))\n",
    "    plt.xlabel('X')\n",
    "    plt.ylabel('Y')\n",
    "    plt.show()\n",
    "\n",
    "display.on_click(on_display_click)\n",
    "input_box_x_y = HBox([x_inp_text_box, y_inp_text_box])\n",
    "\n",
    "\n",
    "# Getting w, b, displaying the points and the line given by eqn y = mx+b\n",
    "w_inp_text_box = Text(value='', placeholder='slope value', description='w')\n",
    "b_inp_text_box = Text(value='', placeholder='y-intercept value', description='b')\n",
    "plot = Button(description='Click to plot x,y,input linear function')\n",
    "def on_plot_click(b):\n",
    "    x_input = x_inp_text_box.value\n",
    "    y_input = y_inp_text_box.value\n",
    "    w_input = int(w_inp_text_box.value)\n",
    "    b_input = int(b_inp_text_box.value)\n",
    "    # parse the data and create a plot of the points\n",
    "    x_values = x_input.split(',')\n",
    "    x_values = [int(i) for i in x_values]\n",
    "    y_values = y_input.split(',')\n",
    "    y_values = [int(i) for i in y_values]\n",
    "    data = [(float(x_values[i]), float(y_values[i]))\n",
    "            for i in range(min(len(x_values), len(y_values)))]\n",
    "    plt.clf()\n",
    "    plt.scatter(*zip(*data))\n",
    "\n",
    "    # plot a line with the provided equation\n",
    "    x = x_values\n",
    "    y = [((w_input * int(i))+b_input) for i in x_values]\n",
    "    plt.plot(x, y, '-r')\n",
    "    plt.xlabel('X')\n",
    "    plt.ylabel('Y')\n",
    "    plt.show()\n",
    "plot.on_click(on_plot_click)\n",
    "input_box_w_b = HBox([w_inp_text_box, b_inp_text_box])\n",
    "\n",
    "# Getting alpha, num_iters, running linear regression\n",
    "alpha_inp_text_box = Text(value='', placeholder='learning rate', description='alpha')\n",
    "num_iters_inp_text_box = Text(value='', placeholder='number of iterations to run linear regression for', description='Number of iterations')\n",
    "run_lin_reg = Button(description='Click to run linear regression')\n",
    "\n",
    "def run_lin_regression(b):\n",
    "    out = widgets.Output()\n",
    "    x_input = x_inp_text_box.value\n",
    "    y_input = y_inp_text_box.value\n",
    "    alpha_input = float(alpha_inp_text_box.value)\n",
    "    num_iters_input = int(num_iters_inp_text_box.value)\n",
    "    # parse the data and create a plot of the points\n",
    "    x_values = x_input.split(',')\n",
    "    x_values = [int(i) for i in x_values]\n",
    "    y_values = y_input.split(',')\n",
    "    y_values = [int(i) for i in y_values]\n",
    "\n",
    "    step_size = 0.05 * num_iters_input\n",
    "    \n",
    "    w = 0\n",
    "    b = 0\n",
    "\n",
    "    for i in range(num_iters_input):\n",
    "        dJ_dw = 0\n",
    "        dJ_db = 0\n",
    "        for j in range(len(x_values)):\n",
    "            dJ_dw = dJ_dw + (1/len(x_input)) * (w*x_values[j] + b - y_values[j])*x_values[j]\n",
    "            dJ_db = dJ_db + (1/len(x_input))*(w*x_values[j] + b - y_values[j])\n",
    "        \n",
    "        w = w - alpha_input*dJ_dw\n",
    "        b = b - alpha_input*dJ_db\n",
    "        y_pred = np.empty([len(x_values), 1])\n",
    "            \n",
    "        for k in range(len(x_values)):\n",
    "            y_pred[k] = w*x_values[k] + b\n",
    "\n",
    "        if i % step_size == 0:\n",
    "            plt.clf()\n",
    "            plt.scatter(x_values, y_values, color='b')\n",
    "            plt.plot(x_values, y_pred, color='k')\n",
    "            IPython.display.display(plt.gcf())\n",
    "            time.sleep(2)\n",
    "            IPython.display.clear_output(wait = False)\n",
    "            \n",
    "            \n",
    "run_lin_reg.on_click(run_lin_regression)\n",
    "input_box_alpha_num_iters = HBox([alpha_inp_text_box, num_iters_inp_text_box])\n",
    "\n",
    "\n",
    "\n",
    "output_box = VBox([input_box_x_y, display, input_box_w_b, plot, input_box_alpha_num_iters, run_lin_reg])\n",
    "output_box"
   ]
  }
 ],
 "metadata": {
  "kernelspec": {
   "display_name": "Python 3.8.9 64-bit",
   "language": "python",
   "name": "python3"
  },
  "language_info": {
   "codemirror_mode": {
    "name": "ipython",
    "version": 3
   },
   "file_extension": ".py",
   "mimetype": "text/x-python",
   "name": "python",
   "nbconvert_exporter": "python",
   "pygments_lexer": "ipython3",
   "version": "3.10.11"
  },
  "vscode": {
   "interpreter": {
    "hash": "31f2aee4e71d21fbe5cf8b01ff0e069b9275f58929596ceb00d14d90e3e16cd6"
   }
  }
 },
 "nbformat": 4,
 "nbformat_minor": 5
}
