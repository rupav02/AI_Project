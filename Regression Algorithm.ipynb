{
 "cells": [
  {
   "cell_type": "code",
   "execution_count": null,
   "id": "7b8a91f7",
   "metadata": {},
   "outputs": [],
   "source": [
    "import numpy as np\n",
    "import pandas as pd\n",
    "import matplotlib.pyplot as plt\n",
    "import seaborn as sns\n",
    "from sklearn import preprocessing, svm\n",
    "from sklearn.model_selection import train_test_split\n",
    "from sklearn.linear_model import LinearRegression\n",
    "from scipy import signal\n",
    "from scipy.signal import savgol_filter\n",
    "from sklearn.metrics import mean_squared_error, r2_score"
   ]
  },
  {
   "cell_type": "code",
<<<<<<< HEAD
   "execution_count": null,
=======
   "execution_count": 233,
>>>>>>> parent of 395fb37 (Linear Regression Method Added)
   "id": "18e19f37",
   "metadata": {},
   "outputs": [],
   "source": [
    "dataframe3 = pd.read_excel('COVID-19 US state policy database 6_10_2021.xlsx')\n",
    "df2 = pd.read_csv('time_series_covid_19_confirmed_US.csv')"
   ]
  },
  {
   "cell_type": "code",
<<<<<<< HEAD
   "execution_count": null,
   "id": "2392ace9",
   "metadata": {},
   "outputs": [],
=======
   "execution_count": 242,
   "id": "2392ace9",
   "metadata": {},
   "outputs": [
    {
     "data": {
      "text/plain": [
       "<seaborn.axisgrid.FacetGrid at 0x7fea2d708640>"
      ]
     },
     "execution_count": 242,
     "metadata": {},
     "output_type": "execute_result"
    },
    {
     "data": {
      "image/png": "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",
      "text/plain": [
       "<Figure size 360x360 with 1 Axes>"
      ]
     },
     "metadata": {
      "needs_background": "light"
     },
     "output_type": "display_data"
    }
   ],
>>>>>>> parent of 395fb37 (Linear Regression Method Added)
   "source": [
    "states = (df2['Province_State'].unique())\n",
    "row = []\n",
    "popValues = []\n",
    "for state in states:\n",
    "    r = df2.loc[df2[\"Province_State\"] == state, \"5/29/21\"]\n",
    "    sum_row = r.sum(axis=0)\n",
    "    row.append(sum_row)\n",
    "df = pd.DataFrame(row) \n",
    "df.columns = [\"Total Covid Cases\"]\n",
    "for index, state in enumerate(states):\n",
    "    df.rename(index={index: state}, inplace=True)\n",
    "df = df.drop([\"American Samoa\", \"Diamond Princess\", \"Grand Princess\", \"Northern Mariana Islands\", \"Guam\", \"Puerto Rico\", \"Virgin Islands\" ], axis=0)\n",
    "r = dataframe3.loc[:,\"POP18\"]\n",
    "for index, val in enumerate(r):\n",
    "    if index > 3:\n",
    "        popValues.append(val)\n",
    "df[\"Population 2018\"] = popValues\n",
    "\n",
    "sns.lmplot(x =\"Population 2018\", y =\"Total Covid Cases\", data = df, order = 2, ci = None)\n"
   ]
  },
  {
   "cell_type": "code",
<<<<<<< HEAD
   "execution_count": null,
   "id": "a130e178",
   "metadata": {},
   "outputs": [],
   "source": [
    "def linear_regression(X_test, y_test):\n",
    "    w = 0\n",
    "    b = 0\n",
    "    alpha = 10 ** -20\n",
    "    iterations = 10000\n",
    "\n",
    "    for i in range(iterations):\n",
    "        dJ_dw = (1/len(X_test))*sum((w*X_test + b - y_test)*X_test)\n",
    "        dJ_db = (1/len(X_test))*sum(w*X_test + b - y_test)\n",
    "        w = w - alpha*dJ_dw\n",
    "        b = b - alpha*dJ_db\n",
    "    \n",
    "    parameters = (w, b)\n",
    "    return parameters"
   ]
  },
  {
   "cell_type": "code",
   "execution_count": null,
   "id": "79e337df",
   "metadata": {},
   "outputs": [],
=======
   "execution_count": 240,
   "id": "79e337df",
   "metadata": {},
   "outputs": [
    {
     "name": "stdout",
     "output_type": "stream",
     "text": [
      "0.9890019678332189\n"
     ]
    }
   ],
>>>>>>> parent of 395fb37 (Linear Regression Method Added)
   "source": [
    "X = np.array(df['Population 2018']).reshape(-1, 1)\n",
    "y = np.array(df['Total Covid Cases']).reshape(-1, 1)\n",
    "\n",
    "X_train, X_test, y_train, y_test = train_test_split(X, y, shuffle=True, train_size=0.3)\n",
    "regr = LinearRegression()\n",
    " \n",
    "regr.fit(X_train, y_train)\n",
    "print(regr.score(X_test, y_test))"
   ]
  },
  {
   "cell_type": "code",
   "execution_count": 243,
   "id": "7432cd7a",
   "metadata": {},
<<<<<<< HEAD
   "outputs": [],
=======
   "outputs": [
    {
     "name": "stdout",
     "output_type": "stream",
     "text": [
      "0.9890019678332189\n",
      "87437.08109272299\n"
     ]
    },
    {
     "data": {
      "image/png": "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",
      "text/plain": [
       "<Figure size 432x288 with 1 Axes>"
      ]
     },
     "metadata": {
      "needs_background": "light"
     },
     "output_type": "display_data"
    }
   ],
>>>>>>> parent of 395fb37 (Linear Regression Method Added)
   "source": [
    "y_pred = regr.predict(X_test)\n",
    "r2 = r2_score(y_test, y_pred)\n",
    "rmse = mean_squared_error(y_test, y_pred, squared=False)\n",
    "print(r2)\n",
    "print(rmse)\n",
    "plt.scatter(X_test, y_test, color ='b')\n",
    "plt.plot(X_test, y_pred, color ='k')\n",
    "plt.show()"
   ]
  },
  {
   "cell_type": "code",
   "execution_count": null,
   "id": "714d5300",
   "metadata": {},
   "outputs": [],
   "source": [
    "import numpy as np\n",
    "import matplotlib.pyplot as plt\n",
    "from matplotlib.widgets import Slider, Button\n",
    "%matplotlib\n",
    "\n",
    "# The parametrized function to be plotted\n",
    "def f(t, amplitude, frequency):\n",
    "    return amplitude * np.sin(2 * np.pi * frequency * t)\n",
    "\n",
    "\n",
    "t = np.linspace(0, 1, 1000)\n",
    "\n",
    "# Define initial parameters\n",
    "init_amplitude = 5\n",
    "init_frequency = 3\n",
    "\n",
    "# Create the figure and the line that we will manipulate\n",
    "fig, ax = plt.subplots()\n",
    "line, = ax.plot(t, f(t, init_amplitude, init_frequency), lw=2)\n",
    "ax.set_xlabel('Time [s]')\n",
    "\n",
    "# adjust the main plot to make room for the sliders\n",
    "fig.subplots_adjust(left=0.25, bottom=0.25)\n",
    "\n",
    "# Make a horizontal slider to control the frequency.\n",
    "axfreq = fig.add_axes([0.25, 0.1, 0.65, 0.03])\n",
    "freq_slider = Slider(\n",
    "    ax=axfreq,\n",
    "    label='Frequency [Hz]',\n",
    "    valmin=0.1,\n",
    "    valmax=30,\n",
    "    valinit=init_frequency,\n",
    ")\n",
    "\n",
    "# Make a vertically oriented slider to control the amplitude\n",
    "axamp = fig.add_axes([0.1, 0.25, 0.0225, 0.63])\n",
    "amp_slider = Slider(\n",
    "    ax=axamp,\n",
    "    label=\"Amplitude\",\n",
    "    valmin=0,\n",
    "    valmax=10,\n",
    "    valinit=init_amplitude,\n",
    "    orientation=\"vertical\"\n",
    ")\n",
    "\n",
    "\n",
    "# The function to be called anytime a slider's value changes\n",
    "def update(val):\n",
    "    line.set_ydata(f(t, amp_slider.val, freq_slider.val))\n",
    "    fig.canvas.draw_idle()\n",
    "\n",
    "\n",
    "# register the update function with each slider\n",
    "freq_slider.on_changed(update)\n",
    "amp_slider.on_changed(update)\n",
    "\n",
    "# Create a `matplotlib.widgets.Button` to reset the sliders to initial values.\n",
    "resetax = fig.add_axes([0.8, 0.025, 0.1, 0.04])\n",
    "button = Button(resetax, 'Reset', hovercolor='0.975')\n",
    "\n",
    "\n",
    "def reset(event):\n",
    "    freq_slider.reset()\n",
    "    amp_slider.reset()\n",
    "\n",
    "\n",
    "button.on_clicked(reset)\n",
    "\n",
    "plt.show()\n"
   ]
  },
  {
   "cell_type": "code",
   "execution_count": null,
   "id": "1018d229",
   "metadata": {},
   "outputs": [],
   "source": []
  }
 ],
 "metadata": {
  "kernelspec": {
   "display_name": "Python 3.8.9 64-bit",
   "language": "python",
   "name": "python3"
  },
  "language_info": {
   "codemirror_mode": {
    "name": "ipython",
    "version": 3
   },
   "file_extension": ".py",
   "mimetype": "text/x-python",
   "name": "python",
   "nbconvert_exporter": "python",
   "pygments_lexer": "ipython3",
   "version": "3.8.9 (default, May 17 2022, 12:55:41) \n[Clang 13.1.6 (clang-1316.0.21.2.5)]"
  },
  "vscode": {
   "interpreter": {
    "hash": "31f2aee4e71d21fbe5cf8b01ff0e069b9275f58929596ceb00d14d90e3e16cd6"
   }
  }
 },
 "nbformat": 4,
 "nbformat_minor": 5
}
